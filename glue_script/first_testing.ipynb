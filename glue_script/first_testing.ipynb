{
 "cells": [
  {
   "cell_type": "code",
   "execution_count": 4,
   "id": "fea57415-912c-499a-b9aa-7e3f9d8e2f23",
   "metadata": {},
   "outputs": [],
   "source": [
    "import pyspark.sql.functions as F"
   ]
  },
  {
   "cell_type": "code",
   "execution_count": 1,
   "id": "5add39c1-e649-46cf-9986-c135f7183721",
   "metadata": {},
   "outputs": [
    {
     "name": "stderr",
     "output_type": "stream",
     "text": [
      "SLF4J: Class path contains multiple SLF4J bindings.\n",
      "SLF4J: Found binding in [jar:file:/home/glue_user/spark/jars/slf4j-reload4j-1.7.36.jar!/org/slf4j/impl/StaticLoggerBinder.class]\n",
      "SLF4J: Found binding in [jar:file:/home/glue_user/spark/jars/log4j-slf4j-impl-2.17.2.jar!/org/slf4j/impl/StaticLoggerBinder.class]\n",
      "SLF4J: Found binding in [jar:file:/home/glue_user/aws-glue-libs/jars/slf4j-reload4j-1.7.36.jar!/org/slf4j/impl/StaticLoggerBinder.class]\n",
      "SLF4J: Found binding in [jar:file:/home/glue_user/aws-glue-libs/jars/log4j-slf4j-impl-2.17.2.jar!/org/slf4j/impl/StaticLoggerBinder.class]\n",
      "SLF4J: See http://www.slf4j.org/codes.html#multiple_bindings for an explanation.\n",
      "SLF4J: Actual binding is of type [org.slf4j.impl.Reload4jLoggerFactory]\n",
      "log4j:WARN No appenders could be found for logger (org.apache.hadoop.metrics2.lib.MutableMetricsFactory).\n",
      "log4j:WARN Please initialize the log4j system properly.\n",
      "log4j:WARN See http://logging.apache.org/log4j/1.2/faq.html#noconfig for more info.\n",
      "/home/glue_user/spark/python/pyspark/sql/context.py:112: FutureWarning: Deprecated in 3.0.0. Use SparkSession.builder.getOrCreate() instead.\n",
      "  warnings.warn(\n",
      "                                                                                \r"
     ]
    },
    {
     "name": "stdout",
     "output_type": "stream",
     "text": [
      "hello\n"
     ]
    }
   ],
   "source": [
    "import sys\n",
    "from awsglue.transforms import *\n",
    "from awsglue.utils import getResolvedOptions\n",
    "from pyspark.context import SparkContext\n",
    "from awsglue.context import GlueContext\n",
    "from pyspark.sql import SparkSession\n",
    "\n",
    "# Initialize SparkContext and GlueContext\n",
    "sc = SparkContext()\n",
    "glueContext = GlueContext(sc)\n",
    "spark = glueContext.spark_session\n",
    "\n",
    "# Extract data from the source JSON files\n",
    "source_df = spark.read.json(\"s3://kafka-finance/raw-json/message_10.json\")\n",
    "\n",
    "print('hello')\n"
   ]
  },
  {
   "cell_type": "code",
   "execution_count": 5,
   "id": "d7b74814-e350-4413-bdcf-40aac92b1486",
   "metadata": {},
   "outputs": [],
   "source": [
    "source_df = source_df.selectExpr(\"explode(AAPL) as AAPL_data\").select(\n",
    "    F.lit('AAPL').alias('ticker'),\n",
    "    'AAPL_data.category',\n",
    "    'AAPL_data.datetime',\n",
    "    'AAPL_data.headline',\n",
    "    'AAPL_data.id',\n",
    "    'AAPL_data.image',\n",
    "    'AAPL_data.related',\n",
    "    'AAPL_data.source',\n",
    "    'AAPL_data.summary',\n",
    "    'AAPL_data.url'\n",
    ")"
   ]
  },
  {
   "cell_type": "code",
   "execution_count": 6,
   "id": "03a63590-1299-40a4-9890-80412fe5b6a0",
   "metadata": {},
   "outputs": [
    {
     "name": "stderr",
     "output_type": "stream",
     "text": [
      "                                                                                \r"
     ]
    },
    {
     "name": "stdout",
     "output_type": "stream",
     "text": [
      "+------+--------+----------+--------------------+---------+--------------------+-------+------------+--------------------+--------------------+\n",
      "|ticker|category|  datetime|            headline|       id|               image|related|      source|             summary|                 url|\n",
      "+------+--------+----------+--------------------+---------+--------------------+-------+------------+--------------------+--------------------+\n",
      "|  AAPL| company|1710563080|Q2 2024 Zedge Inc...|126533925|https://s.yimg.co...|   AAPL|       Yahoo|Q2 2024 Zedge Inc...|https://finnhub.i...|\n",
      "|  AAPL| company|1710537965|Ex-Apple exec Pet...|126528643|https://s.yimg.co...|   AAPL|       Yahoo|Disney's ESPN (DI...|https://finnhub.i...|\n",
      "|  AAPL| company|1710532764|Norfolk County Co...|126533928|https://s.yimg.co...|   AAPL|       Yahoo|The claim alleged...|https://finnhub.i...|\n",
      "|  AAPL| company|1710530187|News Highlights :...|126530822|                    |   AAPL|     Finnhub|Hertz Global CEO ...|https://finnhub.i...|\n",
      "|  AAPL| company|1710526609|Apple to pay $490...|126533929|https://s.yimg.co...|   AAPL|       Yahoo|Apple has agreed ...|https://finnhub.i...|\n",
      "|  AAPL| company|1710526016|Baby formula laws...|126522869|https://s.yimg.co...|   AAPL|       Yahoo|Consumer goods gi...|https://finnhub.i...|\n",
      "|  AAPL| company|1710525240|Apple to Pay $490...|126533931|                    |   AAPL|       Yahoo|Apple  has reache...|https://finnhub.i...|\n",
      "|  AAPL| company|1710522989|News Highlights :...|126527512|                    |   AAPL|     Finnhub|Hertz Global Name...|https://finnhub.i...|\n",
      "|  AAPL| company|1710522237|Analyst warns tha...|126533932|                    |   AAPL|       Yahoo|Deepwater's Gene ...|https://finnhub.i...|\n",
      "|  AAPL| company|1710521117|Apple, Investors ...|126533933|https://s.yimg.co...|   AAPL|       Yahoo|(Bloomberg) -- Ap...|https://finnhub.i...|\n",
      "|  AAPL| company|1710515887|Apple agreed to p...|126524587|                    |   AAPL|     Finnhub|Apple agreed Frid...|https://finnhub.i...|\n",
      "|  AAPL| company|1710515838|ESPN-Fox-WBD join...|126518986|https://s.yimg.co...|   AAPL|       Yahoo|Pete Distad, who ...|https://finnhub.i...|\n",
      "|  AAPL| company|1710515785|News Highlights :...|126524508|                    |   AAPL|     Finnhub|Apple to Pay $490...|https://finnhub.i...|\n",
      "|  AAPL| company|1710515040|Former Apple Exec...|126520838|                    |   AAPL|       Yahoo|Pete Distad will ...|https://finnhub.i...|\n",
      "|  AAPL| company|1710511020|Apple Stock Is Su...|126518352|                    |   AAPL|       Yahoo|The stock is miss...|https://finnhub.i...|\n",
      "|  AAPL| company|1710507756|English council w...|126518353|https://www.teleg...|   AAPL|       Yahoo|An English counci...|https://finnhub.i...|\n",
      "|  AAPL| company|1710507000|Markets Performan...|126520864|                    |   AAPL|SeekingAlpha|                    |https://finnhub.i...|\n",
      "|  AAPL| company|1710506340|10 Information Te...|126523740|                    |   AAPL|    Benzinga|Looking for stock...|https://finnhub.i...|\n",
      "|  AAPL| company|1710506316|UPDATE 3-Apple re...|126518354|https://s.yimg.co...|   AAPL|       Yahoo|Apple agreed to p...|https://finnhub.i...|\n",
      "|  AAPL| company|1710506311|Former Apple exec...|126520394|                    |   AAPL|     Finnhub|Former Apple exec...|https://finnhub.i...|\n",
      "+------+--------+----------+--------------------+---------+--------------------+-------+------------+--------------------+--------------------+\n",
      "only showing top 20 rows\n",
      "\n"
     ]
    }
   ],
   "source": [
    "source_df.show()"
   ]
  }
 ],
 "metadata": {
  "kernelspec": {
   "display_name": "Python 3 (ipykernel)",
   "language": "python",
   "name": "python3"
  },
  "language_info": {
   "codemirror_mode": {
    "name": "ipython",
    "version": 3
   },
   "file_extension": ".py",
   "mimetype": "text/x-python",
   "name": "python",
   "nbconvert_exporter": "python",
   "pygments_lexer": "ipython3",
   "version": "3.10.2"
  }
 },
 "nbformat": 4,
 "nbformat_minor": 5
}

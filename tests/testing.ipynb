{
 "cells": [
  {
   "cell_type": "code",
   "execution_count": 5,
   "metadata": {},
   "outputs": [],
   "source": [
    "import sys\n",
    "sys.path.append(r'/mnt/e/school24/deproject/financial-market-data-pipeline')  # Adjust the path based on the directory structure\n",
    "\n",
    "import yaml\n",
    "import time\n",
    "from etl import GetDataFromAPI, KafkaHandler, split_df_2_smaller_chunk\n",
    "from datetime import datetime, timedelta\n",
    "import boto3\n",
    "import json\n",
    "import copy\n",
    "import math"
   ]
  },
  {
   "cell_type": "code",
   "execution_count": 7,
   "metadata": {},
   "outputs": [],
   "source": [
    "with open('../config/config.yaml', 'r') as file:\n",
    "        config = yaml.safe_load(file)\n",
    "        api_key = config['api']['key']\n",
    "        stocks = config['stocks']"
   ]
  },
  {
   "cell_type": "code",
   "execution_count": 8,
   "metadata": {},
   "outputs": [],
   "source": [
    "get_data = GetDataFromAPI(api_key)\n",
    "# all_us_stocks_raw = get_data.get_list_symbols('US')"
   ]
  },
  {
   "cell_type": "code",
   "execution_count": 16,
   "metadata": {},
   "outputs": [],
   "source": [
    "bs_fn = []\n",
    "for stock in stocks:\n",
    "    single_stock = {'symbol' : stock, 'metrics': get_data.get_basic_basic_financials(stock)}\n",
    "    bs_fn.append(single_stock)"
   ]
  },
  {
   "cell_type": "code",
   "execution_count": 17,
   "metadata": {},
   "outputs": [],
   "source": [
    "final_fn = split_df_2_smaller_chunk(list_dict = bs_fn, stock_key= 'symbol', cate_key='basic_financial')"
   ]
  },
  {
   "cell_type": "code",
   "execution_count": 19,
   "metadata": {},
   "outputs": [
    {
     "name": "stdout",
     "output_type": "stream",
     "text": [
      "Size of chunk 1: 970897 bytes\n",
      "basic_financial_1\n",
      "6\n",
      "6\n",
      "Size of chunk 2: 845872 bytes\n",
      "basic_financial_2\n",
      "6\n",
      "12\n"
     ]
    }
   ],
   "source": [
    "# Print the size of each chunk\n",
    "a=0\n",
    "for i, chunk in enumerate(final_fn):\n",
    "    print(f\"Size of chunk {i + 1}: {sys.getsizeof(dum_js(chunk))} bytes\")\n",
    "    print(chunk['category'])\n",
    "    print(len(chunk))\n",
    "    a += len(chunk)\n",
    "    print(a)"
   ]
  },
  {
   "cell_type": "code",
   "execution_count": 18,
   "metadata": {},
   "outputs": [],
   "source": [
    "def dum_js(v):\n",
    "    \"\"\"\n",
    "    convert to json string to uft8 encoded\n",
    "    \"\"\"\n",
    "    return json.dumps(v).encode('utf-8')"
   ]
  },
  {
   "cell_type": "code",
   "execution_count": 5,
   "metadata": {},
   "outputs": [],
   "source": [
    "###To run the code faster, collect all stock information into a huge dictionary, check the bytes size, then divide by 1,0000,000 to figure out how many chunks should be separated into.###\n",
    "\n",
    "#first check the large dictionary size\n",
    "all_us_stocks = {} \n",
    "chunk_size = 1000000\n",
    "additional_key = {\"category\": \"stock_info_{}\"}\n",
    "for stock in all_us_stocks_raw:\n",
    "    single_stock = {stock['symbol']: stock}\n",
    "    all_us_stocks.update(single_stock)\n",
    "all_stock_size = sys.getsizeof(dum_js(all_us_stocks))\n",
    "num_chunk_split_into = math.ceil(all_stock_size / (chunk_size - sys.getsizeof(dum_js(additional_key))))\n",
    "len_each_chunk = math.ceil(len(all_us_stocks_raw) /  num_chunk_split_into)\n",
    "\n",
    "\n",
    "#split all stock into chunks\n",
    "all_us_stocks_list = []\n",
    "stocks_chunk = {}\n",
    "start_key = 1\n",
    "key_set = set()\n",
    "for idx, stock in enumerate(all_us_stocks_raw):\n",
    "    additional_key = {\"category\": f\"stock_info_{start_key}\"}\n",
    "    # print(additional_key)\n",
    "    key_set.add(additional_key[\"category\"])\n",
    "\n",
    "    if len(stocks_chunk) < len_each_chunk - 1 :\n",
    "        # print(f\"true {len(stocks_chunk)}\")\n",
    "        single_stock = {stock['symbol']: stock}\n",
    "        stocks_chunk.update(single_stock)\n",
    "    else:\n",
    "        # print(f\"false \")\n",
    "        stocks_chunk.update(additional_key)\n",
    "        final_chunk = copy.deepcopy(stocks_chunk)\n",
    "        all_us_stocks_list.append(final_chunk)\n",
    "        stocks_chunk.clear()\n",
    "        start_key += 1\n",
    "        \n",
    "#the remain stocks in last chunk\n",
    "if stocks_chunk:\n",
    "    stocks_chunk.update(additional_key)\n",
    "    all_us_stocks_list.append(stocks_chunk)\n"
   ]
  },
  {
   "cell_type": "code",
   "execution_count": 6,
   "metadata": {},
   "outputs": [
    {
     "data": {
      "text/plain": [
       "26668"
      ]
     },
     "execution_count": 6,
     "metadata": {},
     "output_type": "execute_result"
    }
   ],
   "source": [
    "len(all_us_stocks_raw)\n",
    "# num_chunk_split_into\n",
    "# len_each_chunk\n",
    "# key_set"
   ]
  },
  {
   "cell_type": "code",
   "execution_count": 28,
   "metadata": {},
   "outputs": [
    {
     "data": {
      "text/plain": [
       "7"
      ]
     },
     "execution_count": 28,
     "metadata": {},
     "output_type": "execute_result"
    }
   ],
   "source": [
    "len(all_us_stocks_list)"
   ]
  },
  {
   "cell_type": "code",
   "execution_count": 7,
   "metadata": {},
   "outputs": [
    {
     "name": "stdout",
     "output_type": "stream",
     "text": [
      "Size of chunk 1: 900855 bytes\n",
      "stock_info_1\n",
      "3810\n",
      "3810\n",
      "Size of chunk 2: 901303 bytes\n",
      "stock_info_2\n",
      "3810\n",
      "7620\n",
      "Size of chunk 3: 901433 bytes\n",
      "stock_info_3\n",
      "3810\n",
      "11430\n",
      "Size of chunk 4: 900874 bytes\n",
      "stock_info_4\n",
      "3810\n",
      "15240\n",
      "Size of chunk 5: 900769 bytes\n",
      "stock_info_5\n",
      "3810\n",
      "19050\n",
      "Size of chunk 6: 900845 bytes\n",
      "stock_info_6\n",
      "3810\n",
      "22860\n",
      "Size of chunk 7: 900947 bytes\n",
      "stock_info_7\n",
      "3809\n",
      "26669\n"
     ]
    }
   ],
   "source": [
    "# Print the size of each chunk\n",
    "a=0\n",
    "for i, chunk in enumerate(all_us_stocks_list):\n",
    "    print(f\"Size of chunk {i + 1}: {sys.getsizeof(dum_js(chunk))} bytes\")\n",
    "    print(chunk['category'])\n",
    "    print(len(chunk))\n",
    "    a += len(chunk)\n",
    "    print(a)"
   ]
  },
  {
   "cell_type": "code",
   "execution_count": null,
   "metadata": {},
   "outputs": [],
   "source": []
  },
  {
   "cell_type": "code",
   "execution_count": null,
   "metadata": {},
   "outputs": [],
   "source": []
  },
  {
   "cell_type": "code",
   "execution_count": null,
   "metadata": {},
   "outputs": [],
   "source": []
  },
  {
   "cell_type": "code",
   "execution_count": null,
   "metadata": {},
   "outputs": [],
   "source": []
  },
  {
   "cell_type": "code",
   "execution_count": 12,
   "metadata": {},
   "outputs": [
    {
     "name": "stdout",
     "output_type": "stream",
     "text": [
      "AAPL\n",
      "GOOGL\n",
      "MSFT\n",
      "AMZN\n",
      "NVDA\n",
      "META\n",
      "TSLA\n",
      "V\n",
      "wMT\n",
      "MA\n",
      "JNJ\n"
     ]
    }
   ],
   "source": [
    "company_profile = {\"category\": \"company_info\"}\n",
    "for stock in stocks:\n",
    "    print(stock)\n",
    "    company_profile[stock] = get_data.get_company_profile(stock)"
   ]
  },
  {
   "cell_type": "code",
   "execution_count": 16,
   "metadata": {},
   "outputs": [
    {
     "name": "stdout",
     "output_type": "stream",
     "text": [
      "<class 'bytes'>\n",
      "b'{\"category\": \"company_info\", \"AAPL\": {\"country\": \"US\", \"currency\": \"USD\", \"estimateCurrency\": \"USD\", \"exchange\": \"NASDAQ NMS - GLOBAL MARKET\", \"finnhubIndustry\": \"Technology\", \"ipo\": \"1980-12-12\", \"logo\": \"https://static2.finnhub.io/file/publicdatany/finnhubimage/stock_logo/AAPL.svg\", \"marketCapitalization\": 2660327.1586526455, \"name\": \"Apple Inc\", \"phone\": \"14089961010\", \"shareOutstanding\": 15441.88, \"ticker\": \"AAPL\", \"weburl\": \"https://www.apple.com/\"}, \"GOOGL\": {\"country\": \"US\", \"currency\": \"USD\", \"estimateCurrency\": \"USD\", \"exchange\": \"NASDAQ NMS - GLOBAL MARKET\", \"finnhubIndustry\": \"Media\", \"ipo\": \"2004-08-19\", \"logo\": \"https://static2.finnhub.io/file/publicdatany/finnhubimage/stock_logo/GOOG.svg\", \"marketCapitalization\": 1881127.2712680658, \"name\": \"Alphabet Inc\", \"phone\": \"16502530000\", \"shareOutstanding\": 12433, \"ticker\": \"GOOGL\", \"weburl\": \"https://abc.xyz/\"}, \"MSFT\": {\"country\": \"US\", \"currency\": \"USD\", \"estimateCurrency\": \"USD\", \"exchange\": \"NASDAQ NMS - GLOBAL MARKET\", \"finnhubIndustry\": \"Technology\", \"ipo\": \"1986-03-13\", \"logo\": \"https://static2.finnhub.io/file/publicdatany/finnhubimage/stock_logo/MSFT.svg\", \"marketCapitalization\": 3185725.1094850856, \"name\": \"Microsoft Corp\", \"phone\": \"14258828080\", \"shareOutstanding\": 7430.44, \"ticker\": \"MSFT\", \"weburl\": \"https://www.microsoft.com/en-us\"}, \"AMZN\": {\"country\": \"US\", \"currency\": \"USD\", \"estimateCurrency\": \"USD\", \"exchange\": \"NASDAQ NMS - GLOBAL MARKET\", \"finnhubIndustry\": \"Retail\", \"ipo\": \"1997-05-15\", \"logo\": \"https://static2.finnhub.io/file/publicdatany/finnhubimage/stock_logo/AMZN.svg\", \"marketCapitalization\": 1857990.750660518, \"name\": \"Amazon.com Inc\", \"phone\": \"12062661000\", \"shareOutstanding\": 10387.38, \"ticker\": \"AMZN\", \"weburl\": \"https://www.amazon.com/\"}, \"NVDA\": {\"country\": \"US\", \"currency\": \"USD\", \"estimateCurrency\": \"USD\", \"exchange\": \"NASDAQ NMS - GLOBAL MARKET\", \"finnhubIndustry\": \"Semiconductors\", \"ipo\": \"1999-01-22\", \"logo\": \"https://static2.finnhub.io/file/publicdatany/finnhubimage/stock_logo/NVDA.svg\", \"marketCapitalization\": 2357224.937059888, \"name\": \"NVIDIA Corp\", \"phone\": \"14084862000\", \"shareOutstanding\": 2500, \"ticker\": \"NVDA\", \"weburl\": \"https://www.nvidia.com/\"}, \"META\": {\"country\": \"US\", \"currency\": \"USD\", \"estimateCurrency\": \"USD\", \"exchange\": \"NASDAQ NMS - GLOBAL MARKET\", \"finnhubIndustry\": \"Media\", \"ipo\": \"2012-05-18\", \"logo\": \"https://static2.finnhub.io/file/publicdatany/finnhubimage/stock_logo/FB.svg\", \"marketCapitalization\": 1299125.9631169406, \"name\": \"Meta Platforms Inc\", \"phone\": \"16505434800\", \"shareOutstanding\": 2549.41, \"ticker\": \"META\", \"weburl\": \"https://www.meta.com/\"}, \"TSLA\": {\"country\": \"US\", \"currency\": \"USD\", \"estimateCurrency\": \"USD\", \"exchange\": \"NASDAQ NMS - GLOBAL MARKET\", \"finnhubIndustry\": \"Automobiles\", \"ipo\": \"2010-06-09\", \"logo\": \"https://static2.finnhub.io/file/publicdatany/finnhubimage/stock_logo/TSLA.svg\", \"marketCapitalization\": 544057.788843985, \"name\": \"Tesla Inc\", \"phone\": \"15125168177\", \"shareOutstanding\": 3184.79, \"ticker\": \"TSLA\", \"weburl\": \"https://www.tesla.com/\"}, \"V\": {\"country\": \"US\", \"currency\": \"USD\", \"estimateCurrency\": \"USD\", \"exchange\": \"NEW YORK STOCK EXCHANGE, INC.\", \"finnhubIndustry\": \"Financial Services\", \"ipo\": \"2008-03-25\", \"logo\": \"https://static2.finnhub.io/file/publicdatany/finnhubimage/stock_logo/V.svg\", \"marketCapitalization\": 569060.0192915087, \"name\": \"Visa Inc\", \"phone\": \"16504323200\", \"shareOutstanding\": 2008.97, \"ticker\": \"V\", \"weburl\": \"https://usa.visa.com/\"}, \"wMT\": {\"country\": \"US\", \"currency\": \"USD\", \"estimateCurrency\": \"USD\", \"exchange\": \"NEW YORK STOCK EXCHANGE, INC.\", \"finnhubIndustry\": \"Retail\", \"ipo\": \"1972-08-25\", \"logo\": \"https://static2.finnhub.io/file/publicdatany/finnhubimage/stock_logo/WMT.svg\", \"marketCapitalization\": 490173.48437233554, \"name\": \"Walmart Inc\", \"phone\": \"14792734000\", \"shareOutstanding\": 8052.79, \"ticker\": \"WMT\", \"weburl\": \"https://corporate.walmart.com/\"}, \"MA\": {\"country\": \"US\", \"currency\": \"USD\", \"estimateCurrency\": \"USD\", \"exchange\": \"NEW YORK STOCK EXCHANGE, INC.\", \"finnhubIndustry\": \"Financial Services\", \"ipo\": \"2006-05-25\", \"logo\": \"https://static2.finnhub.io/file/publicdatany/finnhubimage/stock_logo/MA.svg\", \"marketCapitalization\": 449345.8687927673, \"name\": \"Mastercard Inc\", \"phone\": \"19142492000\", \"shareOutstanding\": 932.89, \"ticker\": \"MA\", \"weburl\": \"https://www.mastercard.us/\"}, \"JNJ\": {\"country\": \"US\", \"currency\": \"USD\", \"estimateCurrency\": \"USD\", \"exchange\": \"NEW YORK STOCK EXCHANGE, INC.\", \"finnhubIndustry\": \"Pharmaceuticals\", \"ipo\": \"1944-09-25\", \"logo\": \"https://static2.finnhub.io/file/publicdatany/finnhubimage/stock_logo/JNJ.svg\", \"marketCapitalization\": 373912.9532543283, \"name\": \"Johnson & Johnson\", \"phone\": \"17325242455\", \"shareOutstanding\": 2408.77, \"ticker\": \"JNJ\", \"weburl\": \"https://www.jnj.com/\"}}'\n"
     ]
    }
   ],
   "source": [
    "print(type(dum_js(company_profile)))\n",
    "print(dum_js(company_profile))"
   ]
  }
 ],
 "metadata": {
  "kernelspec": {
   "display_name": "Python 3",
   "language": "python",
   "name": "python3"
  },
  "language_info": {
   "codemirror_mode": {
    "name": "ipython",
    "version": 3
   },
   "file_extension": ".py",
   "mimetype": "text/x-python",
   "name": "python",
   "nbconvert_exporter": "python",
   "pygments_lexer": "ipython3",
   "version": "3.10.12"
  }
 },
 "nbformat": 4,
 "nbformat_minor": 2
}
